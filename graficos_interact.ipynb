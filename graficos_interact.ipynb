# %% [markdown]
# # Gráficos interactivos con Python, Pandas, Plotly y Cufflinks
# ***Cufflinks*** actúa como inrmediario entre pandas y plotly para lograr los gráficos interectivos.

# %% [markdown]
# ## 1. Instalando las librerías

# %%
#%pip install pandas
#%pip install plotly
#%pip install cufflinks

# %% [markdown]
# ## 2. Importamos las librerías

# %%
import pandas as pd
import cufflinks as cf
from IPython.display import display,HTML
import plotly.graph_objects as go
"""
De cufflinks aplicamos una configuración para compartir público y con tema blanco en modo online:
"""
cf.set_config_file(sharing='public',theme='ggplot',offline=True)

# %% [markdown]
# Para observar todos los temas disponibles:

# %%
cf.getThemes()

# %% [markdown]
# ## 3. Leyendo un DataSet
# El DataSet es el conjunto de datos que vamos a leer desde un CSV para transformarlo en un ***DataFrame***.

# %%
pd.read_csv('population_total.csv')

# %% [markdown]
# ### 3.1 Formatear/Configurar DataFrame
# Para trabajar eficientemente con el DataFrame, necesitamos manipular y transformar los datos.

# %%
#Cargamos y guardamos el DF en una variable
df_population=pd.read_csv('population_total.csv')
#Eliminamos los valores nulos
df_population=df_population.dropna()
#Dar forma al DF con pivot
df_population = df_population.pivot(index='year',columns='country',values='population')
#Podemos elegir los paises que deseamos incluir
df_population=df_population[['United States','India','China','Indonesia','Brazil']]
df_population

# %% [markdown]
# # Gráficas

# %% [markdown]
# ## 1. Gráfico de lineas con Pandas

# %%
df_population.iplot(kind='line')

# %% [markdown]
# ### 1.1 Personalizar gráfica

# %%
df_population.iplot(kind='line',xTitle='Year',yTitle='Population',title='Year vs Population')

# %% [markdown]
# ## 2. Gráfica de barras

# %%
#Población de los 5 paises en el año 2022, recordamos que el index es el año
df_population_2020=df_population[df_population.index.isin([2020])]
df_population_2020=df_population_2020.T
df_population_2020.iplot(
    kind='bar',xTitle='Countries',yTitle='Population',title='Year vs Population',color='red'
    )

# %% [markdown]
# ## 3. Gráfica de barras multiple

# %%
df_population_sample=df_population[df_population.index.isin([1980,
                                                             1990,2000,
                                                             2010,2020])]
df_population_sample.iplot(
    kind='bar',xTitle='Countries',yTitle='Population',title='Year vs Population')

# %% [markdown]
# ## 4. Gráfica de cajas

# %%
df_population['United States'].iplot(kind='box')

# %%
df_population.iplot(kind='box')

# %% [markdown]
# ## 5. Histograma

# %%
df_population['United States'].iplot(kind='hist')

# %% [markdown]
# ## 6. Multiple histigrama

# %%
df_population[['United States','Indonesia']].iplot(kind='hist')

# %% [markdown]
# ## 7. Gráfico de pastel
# Para este gráfico de pastel usamos el DF de la población en el año 2020 pero no necesitaremos como índice a los paises.

# %%
df_population_2020=df_population_2020.reset_index()
#Renombramos los valores definiendo las columnas y pasando de int a str
df_population_2020=df_population_2020.rename(columns={2020:'2020'})
df_population_2020.iplot(kind='pie',labels='country',values='2020')

# %% [markdown]
# ## 8. Gráfico de dispersión

# %%
df_population.iplot(kind='scatter',mode='markers',xTitle='Year',
                    yTitle='Population',title='Year vs Population')
